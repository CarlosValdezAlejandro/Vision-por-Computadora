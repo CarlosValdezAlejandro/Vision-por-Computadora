{
 "cells": [
  {
   "cell_type": "markdown",
   "metadata": {},
   "source": [
    "Trabajo Práctico N°3"
   ]
  },
  {
   "cell_type": "code",
   "execution_count": 4,
   "metadata": {},
   "outputs": [],
   "source": [
    "#!/usr/bin/python\n",
    "# -*- coding: utf-8 -*-\n",
    "\n",
    "\n",
    "import cv2 as cv\n",
    "\n",
    "#define un objeto de captura de video\n",
    "cap = cv.VideoCapture('The_Seed.avi')\n",
    "\n",
    "#especificamos formato\n",
    "fourcc_XVID = cv.VideoWriter_fourcc('X', 'V', 'I', 'D') #.avi codificacion de video xvid\n",
    "#obtengo fps con metodo de cv2. puedo reemplazar por cap.get(5)\n",
    "fps = cap.get(cv.CAP_PROP_FPS)\n",
    "#ancho y alto sin hardcodear con metodo cv2\n",
    "framesize = (int(cap.get(cv.CAP_PROP_FRAME_WIDTH)), int(cap.get(cv.CAP_PROP_FRAME_HEIGHT)))\n",
    "\n",
    "#delay en milisegundos\n",
    "delay = int(1000/fps)\n",
    "\n",
    "#read devuelve una tupla, primer elemento booleano, segundo frame\n",
    "success, frame = cap.read() #Success indica captura exitosa\n",
    "\n",
    "if not success:\n",
    "    print(\"no se pudo realizar captura\")\n",
    "\n",
    "out = cv.VideoWriter('video_xvid.avi', fourcc_XVID, fps, framesize, isColor=False)\n",
    "\n",
    "while success:\n",
    "    #convierte a escala de grises\n",
    "    gray = cv.cvtColor(frame, cv.COLOR_BGR2GRAY)\n",
    "    out.write(gray)\n",
    "    cv.imshow('Image gray', gray)\n",
    "    #espera delay ms a que presione tecla Q\n",
    "    if (cv.waitKey(delay) & 0xFF) == ord('q'):\n",
    "        break\n",
    "    #leemos otro cuadro sino apretamos Q\n",
    "    success, frame = cap.read()\n",
    "        \n",
    "cap.release()\n",
    "out.release()\n",
    "cv.destroyAllWindows()"
   ]
  }
 ],
 "metadata": {
  "kernelspec": {
   "display_name": "Python 3",
   "language": "python",
   "name": "python3"
  },
  "language_info": {
   "codemirror_mode": {
    "name": "ipython",
    "version": 3
   },
   "file_extension": ".py",
   "mimetype": "text/x-python",
   "name": "python",
   "nbconvert_exporter": "python",
   "pygments_lexer": "ipython3",
   "version": "3.7.3"
  }
 },
 "nbformat": 4,
 "nbformat_minor": 2
}
