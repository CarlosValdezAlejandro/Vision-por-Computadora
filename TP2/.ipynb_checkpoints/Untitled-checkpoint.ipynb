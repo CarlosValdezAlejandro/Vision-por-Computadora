{
 "cells": [
  {
   "cell_type": "markdown",
   "metadata": {},
   "source": [
    "Trabajo Practico N°2\n"
   ]
  },
  {
   "cell_type": "code",
   "execution_count": 5,
   "metadata": {},
   "outputs": [
    {
     "name": "stdout",
     "output_type": "stream",
     "text": [
      "Valor del umbral entre 0-255: 20\n"
     ]
    }
   ],
   "source": [
    "#!/usr/bin/python\n",
    "# -*- coding: utf-8 -*-\n",
    "\n",
    "import cv2\n",
    "\n",
    "\n",
    "img = cv2.imread ('hoja.png', 0) #leer en escala de grises los pixeles q no sean blanco y negro y estos van a estar entre 0 y 255\n",
    "\n",
    "\n",
    "umbral = int(input('Valor del umbral entre 0-255: ')) #valor mas bajo, mas grises, mas alto mas negra la img\n",
    "x , y= img.shape  #shape nos da la altura, ancho, y canal de color (no usado en nuestro caso) respectivamente\n",
    "\n",
    "#for anidado para recorrer columnas y filas de la imagen \n",
    "for row in range(x):\n",
    "    for col in range(y):\n",
    "        if (img[row, col]  <= umbral): #limite de umbral para img\n",
    "            img[row, col] = 0\n",
    "\n",
    "#guardo archivo nuevo\n",
    "cv2.imwrite('resultado.png', img)\n",
    "#muestro archivo nuevo\n",
    "cv2.imshow('Imagen Umbralizada', img)\n",
    "cv2.waitKey(0)\n",
    "cv2.destroyAllWindows()"
   ]
  }
 ],
 "metadata": {
  "kernelspec": {
   "display_name": "Python 3",
   "language": "python",
   "name": "python3"
  },
  "language_info": {
   "codemirror_mode": {
    "name": "ipython",
    "version": 3
   },
   "file_extension": ".py",
   "mimetype": "text/x-python",
   "name": "python",
   "nbconvert_exporter": "python",
   "pygments_lexer": "ipython3",
   "version": "3.7.3"
  }
 },
 "nbformat": 4,
 "nbformat_minor": 2
}
