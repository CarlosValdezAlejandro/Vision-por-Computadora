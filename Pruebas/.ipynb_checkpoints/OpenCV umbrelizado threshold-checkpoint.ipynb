{
 "cells": [
  {
   "cell_type": "code",
   "execution_count": 3,
   "metadata": {},
   "outputs": [
    {
     "name": "stdout",
     "output_type": "stream",
     "text": [
      "Umbral Otsu=  163.0\n"
     ]
    },
    {
     "data": {
      "text/plain": [
       "True"
      ]
     },
     "execution_count": 3,
     "metadata": {},
     "output_type": "execute_result"
    }
   ],
   "source": [
    "#! /usr/bin/env python (umbralizado_opencv.py)\n",
    "# -*- coding: utf-8 -*-\n",
    "import cv2\n",
    "img = cv2.imread ( 'siempre_verde.png' , 0)\n",
    "thr = 200\n",
    "maxval = 255\n",
    "retval , dst = cv2.threshold ( img , thr , maxval , cv2.THRESH_BINARY)\n",
    "cv2.imwrite ( ' resul tado_opencv.png ' , dst )\n",
    "retval , dst = cv2.threshold ( img, int () , maxval , cv2.THRESH_OTSU)\n",
    "print ( \"Umbral Otsu= \" , retval )\n",
    "cv2.imwrite(' resul tado_opencv_otsu.png ' , dst )"
   ]
  }
 ],
 "metadata": {
  "kernelspec": {
   "display_name": "Python 3",
   "language": "python",
   "name": "python3"
  },
  "language_info": {
   "codemirror_mode": {
    "name": "ipython",
    "version": 3
   },
   "file_extension": ".py",
   "mimetype": "text/x-python",
   "name": "python",
   "nbconvert_exporter": "python",
   "pygments_lexer": "ipython3",
   "version": "3.7.3"
  }
 },
 "nbformat": 4,
 "nbformat_minor": 2
}
