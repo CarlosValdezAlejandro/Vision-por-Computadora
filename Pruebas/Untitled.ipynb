{
 "cells": [
  {
   "cell_type": "code",
   "execution_count": 1,
   "metadata": {},
   "outputs": [],
   "source": [
    "#!/usr/bin/python\n",
    "#A. ¿Cómo obtener el frame rate o fps usando las OpenCV? Usarlo para no tener que harcodear el delay del waitKey.\n",
    "#B. ¿Cómo obtener el ancho y alto de las imágenes capturadas usando las OpenCV? Usarlo para no tener que harcodear el frameSize del video generado\n",
    "\n",
    "import cv2 \n",
    "\n",
    "\n",
    "videoCapture = cv2.VideoCapture('The_Seed.avi')  #si le pasamos un archivo , creamos un objeto de video captura   objero de tipo videcpature\n",
    "\n",
    "fourcc_XVID = cv2.VideoWriter_fourcc('X', 'V', 'I', 'D') #.avi    # fourcc_XVID es la variable para codificacion de video ,  cramos el codigo de 4 caracteres , en este caso xvid\n",
    "#fourcc_I420 = cv2.VideoWriter_fourcc('I', '4', '2', '0') #.avi\n",
    "#fourcc_PIM1 = cv2.VideoWriter_fourcc('P', 'I', 'M', '1') #.avi\n",
    "#fourcc_MP4V = cv2.VideoWriter_fourcc('M', 'P', '4', 'V') #.mp4\n",
    "#fourcc_X264 = cv2.VideoWriter_fourcc('X', '2', '6', '4') #.mp4\n",
    "#fourcc_THEO = cv2.VideoWriter_fourcc('T', 'H', 'E', 'O') #.ogv\n",
    "#fourcc_FLV1 = cv2.VideoWriter_fourcc('F', 'L', 'V', '1') #.flv\n",
    "fps = videoCapture.get(cv2.CAP_PROP_FPS)                                #usamos para obtener el FPS del video para no harkodearlo        \n",
    "framesize = (int(videoCapture.get(cv2.CAP_PROP_FRAME_WIDTH)),          #obtener el tamaño exacto   ancho y alto  de la fram que va a capturar           \n",
    "             int(videoCapture.get(cv2.CAP_PROP_FRAME_HEIGHT)))\n",
    "delay = int(1000/fps)                         # dividir un segundo por la cantidad de frame               \n",
    "success, frame = videoCapture.read()   # leemos un cuadro (frame) , sucess es un boleano si es si se leyo o no  el frame\n",
    "#(framesize )= frame.shape [:2]  # otra forma de obtener el ancho y alto \n",
    "videoWriter = cv2.VideoWriter('output_XVID.avi', fourcc_XVID, fps, framesize, isColor = False) #sirve para escribir video es una clase video , nos sirve para escrbir video ...IS COLOR  indica si el video es en escala de grises o en color\n",
    "while success:   # si leyo las frame\n",
    "    gray = cv2.cvtColor(frame, cv2.COLOR_BGR2GRAY)    #convierto a escala de  grises  \n",
    "    videoWriter.write(gray) # lo escribo \n",
    "    cv2.imshow('Image gray', gray)  # lo muestra\n",
    "    if (cv2.waitKey(delay) & 0b11111111) == ord('q'):        # se queda esperando un tiempo , preugntando si es usuario apreto la q  o si el tiempoq ue hace falta para leer la proxima imagen                                \n",
    "        break\n",
    "    success, frame = videoCapture.read()   # si no apreto la q leemos el otro cuadro \n",
    "\n",
    "videoCapture.release()  #libera recursos \n",
    "videoWriter.release()    # libera recursos \n",
    "cv2.destroyAllWindows()  # destryte la ventana "
   ]
  }
 ],
 "metadata": {
  "kernelspec": {
   "display_name": "Python 3",
   "language": "python",
   "name": "python3"
  },
  "language_info": {
   "codemirror_mode": {
    "name": "ipython",
    "version": 3
   },
   "file_extension": ".py",
   "mimetype": "text/x-python",
   "name": "python",
   "nbconvert_exporter": "python",
   "pygments_lexer": "ipython3",
   "version": "3.7.3"
  }
 },
 "nbformat": 4,
 "nbformat_minor": 2
}
