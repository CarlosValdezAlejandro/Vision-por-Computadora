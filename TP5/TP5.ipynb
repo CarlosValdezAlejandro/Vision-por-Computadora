{
 "cells": [
  {
   "cell_type": "markdown",
   "metadata": {},
   "source": [
    "Trabajo Práctico N°5"
   ]
  },
  {
   "cell_type": "code",
   "execution_count": 1,
   "metadata": {},
   "outputs": [
    {
     "name": "stdout",
     "output_type": "stream",
     "text": [
      "ingrese angulo de traslación: 45\n",
      "ingrese traslación en x5\n",
      "ingrese traslación en y2\n"
     ]
    }
   ],
   "source": [
    "#! /usr/bin/env python\n",
    "# -*- coding: utf-8 -*-\n",
    "\n",
    "\n",
    "import numpy as np\n",
    "import cv2\n",
    "\n",
    "blue = (255,0,0); green = (0,255,0); red = (0,0,255)\n",
    "drawing=False\n",
    "xybutton_down = -1, -1\n",
    "\n",
    "def translate(image, angle, x_t, y_t):\n",
    "    (h, w) = image.shape[:2]\n",
    "    angle = np.radians(angle)\n",
    "    M = np.float32([[np.cos(angle), np.sin(angle), x_t],\n",
    "                    [-np.sin(angle), np.cos(angle), y_t]])\n",
    "\n",
    "\n",
    "    translate = cv2.warpAffine(image, M, (w, h))\n",
    "    return translate\n",
    "\n",
    "\n",
    "def input_values():\n",
    "    global angle, x, y\n",
    "    angle = int(input('ingrese angulo de traslación: '))\n",
    "    x =  int(input('ingrese traslación en x'))\n",
    "    y =  int(input('ingrese traslación en y'))\n",
    "    \n",
    "    \n",
    "    \n",
    "def dibuja(event, x, y, flags, param):\n",
    "    global xybutton_down, drawing, mode, xf, yf, xi, yi\n",
    "    if event == cv2.EVENT_LBUTTONDOWN:\n",
    "        drawing = True\n",
    "        xi, yi = x, y\n",
    "        xybutton_down = x, y\n",
    "    elif event == cv2.EVENT_MOUSEMOVE:\n",
    "        if drawing is True:\n",
    "            img = img_copy.copy()\n",
    "            cv2.rectangle(img, xybutton_down, (x,y), blue, 2)\n",
    "            xf, yf = x, y\n",
    "        \n",
    "    elif event == cv2.EVENT_LBUTTONUP:\n",
    "        drawing = False\n",
    "        cv2.imshow('imagen seleccionada', img_copy[yi:yf, xi:xf])\n",
    "        \n",
    "\n",
    "def read_img():\n",
    "    global img, img_copy\n",
    "    img = cv2.imread('lenna.png', cv2.IMREAD_COLOR)\n",
    "    img_copy = img.copy()\n",
    "    \n",
    "    \n",
    "read_img()\n",
    "cv2.namedWindow('image')\n",
    "input_values()\n",
    "cv2.setMouseCallback('image', dibuja)\n",
    "\n",
    "while(1):\n",
    "    cv2.imshow('image', img)\n",
    "    k = cv2.waitKey(1) & 0xFF\n",
    "    if k == ord('r'):\n",
    "        read_img()\n",
    "    elif k == ord('g'):\n",
    "        img_copy = img_copy[yi:yf, xi:xf]\n",
    "        img_translate = translate(img_copy, angle, x, y)\n",
    "        cv2.imwrite('lenna_croped&translated.png', img_translate)\n",
    "        cv2.imshow('imagen guardada', img_translate)\n",
    "        \n",
    "        \n",
    "    elif k == ord('q'):\n",
    "        break\n",
    "\n",
    "cv2.destroyAllWindows()"
   ]
  }
 ],
 "metadata": {
  "kernelspec": {
   "display_name": "Python 3",
   "language": "python",
   "name": "python3"
  },
  "language_info": {
   "codemirror_mode": {
    "name": "ipython",
    "version": 3
   },
   "file_extension": ".py",
   "mimetype": "text/x-python",
   "name": "python",
   "nbconvert_exporter": "python",
   "pygments_lexer": "ipython3",
   "version": "3.7.3"
  }
 },
 "nbformat": 4,
 "nbformat_minor": 2
}
