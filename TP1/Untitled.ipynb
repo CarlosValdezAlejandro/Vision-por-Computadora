{
 "cells": [
  {
   "cell_type": "markdown",
   "metadata": {},
   "source": [
    "Practico numero 1"
   ]
  },
  {
   "cell_type": "code",
   "execution_count": null,
   "metadata": {},
   "outputs": [],
   "source": [
    "import random\n",
    "\n",
    "\n",
    "def adivinar(intentos):\n",
    "    \n",
    "    #numero aleatorio 0-100\n",
    "    num = random.randint(0, 1)\n",
    "    i=0\n",
    "    resultado = False\n",
    "    \n",
    "    while(i <= intentos):\n",
    "        while True:\n",
    "            try:\n",
    "                num_usuario = int(input('Ingrese numero para adivinar: '))\n",
    "                break\n",
    "            except:\n",
    "                print(\"Entrada incorrecta\")\n",
    "        \n",
    "        if(num_usuario == num):\n",
    "            resultado = True\n",
    "            break\n",
    "        i+=1\n",
    "    return resultado, i\n",
    "        \n",
    "          \n",
    "    \n",
    "\n",
    "while True:\n",
    "        try:\n",
    "            n_intentos = int(input('Ingrese cantidad de intentos: '))\n",
    "            break\n",
    "        except:\n",
    "            print(\"Entrada incorrecta\")\n",
    "\n",
    "result, i = adivinar(n_intentos)\n",
    "\n",
    "if(result):\n",
    "    print(\"Numero adivinado correctamente\")\n",
    "    print(\"usted adivino el numero en el intento nro: \", i)\n",
    "else:\n",
    "    print(\"Maxima cantidad de intentos\")\n",
    "    \n",
    "\n",
    "\n"
   ]
  }
 ],
 "metadata": {
  "kernelspec": {
   "display_name": "Python 3",
   "language": "python",
   "name": "python3"
  },
  "language_info": {
   "codemirror_mode": {
    "name": "ipython",
    "version": 3
   },
   "file_extension": ".py",
   "mimetype": "text/x-python",
   "name": "python",
   "nbconvert_exporter": "python",
   "pygments_lexer": "ipython3",
   "version": "3.7.3"
  }
 },
 "nbformat": 4,
 "nbformat_minor": 2
}
