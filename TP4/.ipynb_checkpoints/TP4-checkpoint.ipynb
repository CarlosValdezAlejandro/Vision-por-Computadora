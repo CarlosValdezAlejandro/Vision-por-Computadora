{
 "cells": [
  {
   "cell_type": "markdown",
   "metadata": {},
   "source": [
    "Trabajo Práctico N°4"
   ]
  },
  {
   "cell_type": "code",
   "execution_count": 4,
   "metadata": {},
   "outputs": [],
   "source": [
    "#! /usr/bin/env python\n",
    "# -*- coding: utf-8 -*-\n",
    "\n",
    "\n",
    "import cv2\n",
    "import numpy as np\n",
    "\n",
    "blue = (255,0,0); green = (0,255,0); red = (0,0,255)\n",
    "drawing=False\n",
    "\n",
    "xybutton_down = -1, -1\n",
    "\n",
    "def dibuja(event, x, y, flags, param):\n",
    "    global drawing, mode, xf, yf, xi, yi\n",
    "    if event == cv2.EVENT_LBUTTONDOWN:\n",
    "        drawing = True\n",
    "        xi, yi = x, y\n",
    "        \n",
    "    elif event == cv2.EVENT_MOUSEMOVE:\n",
    "        if drawing is True:\n",
    "            img[:] = img_copy[:]  #voy remplazando por img sin modificar, para que no se vea el barrido de rectangulos\n",
    "            cv2.rectangle(img, (xi, yi), (x,y), blue, 2)\n",
    "            xf, yf = x, y\n",
    "        \n",
    "    elif event == cv2.EVENT_LBUTTONUP:\n",
    "        drawing = False\n",
    "        \n",
    "\n",
    "def read_img():\n",
    "    global img, img_copy\n",
    "    img = cv2.imread('lenna.png', cv2.IMREAD_COLOR)\n",
    "    img_copy = img.copy()\n",
    "\n",
    "read_img()\n",
    "cv2.namedWindow('image')\n",
    "cv2.setMouseCallback('image', dibuja)\n",
    "\n",
    "\n",
    "while(1):\n",
    "    cv2.imshow('image', img)\n",
    "    k = cv2.waitKey(1) & 0xFF\n",
    "    if k == ord('r'):\n",
    "        read_img()\n",
    "    elif k == ord('g'):\n",
    "        img_copy = img_copy[yi:yf, xi:xf]\n",
    "        cv2.imwrite('lenna_croped.png', img_copy)\n",
    "        cv2.imshow('imagen guardada', img_copy)\n",
    "        \n",
    "    elif k == ord('q'):\n",
    "        break\n",
    "\n",
    "cv2.destroyAllWindows()"
   ]
  }
 ],
 "metadata": {
  "kernelspec": {
   "display_name": "Python 3",
   "language": "python",
   "name": "python3"
  },
  "language_info": {
   "codemirror_mode": {
    "name": "ipython",
    "version": 3
   },
   "file_extension": ".py",
   "mimetype": "text/x-python",
   "name": "python",
   "nbconvert_exporter": "python",
   "pygments_lexer": "ipython3",
   "version": "3.7.3"
  }
 },
 "nbformat": 4,
 "nbformat_minor": 2
}
